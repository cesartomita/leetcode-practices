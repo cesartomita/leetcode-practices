{
 "cells": [
  {
   "cell_type": "code",
   "execution_count": null,
   "id": "a1174c5a",
   "metadata": {},
   "outputs": [],
   "source": [
    "import pandas as pd\n",
    "\n",
    "data = {\n",
    "    \"user_id\": [1, 2],\n",
    "    \"name\": [\"alice\", \"bOB\"]\n",
    "}\n",
    "\n",
    "users = pd.DataFrame(data)\n",
    "\n",
    "users"
   ]
  }
 ],
 "metadata": {
  "kernelspec": {
   "display_name": "base",
   "language": "python",
   "name": "python3"
  },
  "language_info": {
   "name": "python",
   "version": "3.12.7"
  }
 },
 "nbformat": 4,
 "nbformat_minor": 5
}
